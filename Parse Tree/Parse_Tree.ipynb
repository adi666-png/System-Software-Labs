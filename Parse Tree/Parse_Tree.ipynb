{
 "cells": [
  {
   "cell_type": "code",
   "execution_count": null,
   "metadata": {
    "colab": {
     "base_uri": "https://localhost:8080/"
    },
    "id": "8kGaUdMxM0Jw",
    "outputId": "0bcc8260-9b78-47aa-d0ae-85c794d9e226"
   },
   "outputs": [],
   "source": [
    "s=input()\n",
    "l=s.split(\" \")"
   ]
  },
  {
   "cell_type": "code",
   "execution_count": null,
   "metadata": {
    "colab": {
     "base_uri": "https://localhost:8080/"
    },
    "id": "BvifNs-9M8-3",
    "outputId": "df46c719-c9dc-4672-a803-56db3dac4e75"
   },
   "outputs": [],
   "source": [
    "l"
   ]
  },
  {
   "cell_type": "code",
   "execution_count": null,
   "metadata": {
    "id": "BNcBb3L9OL0Q"
   },
   "outputs": [],
   "source": [
    "class Node:\n",
    "   def __init__(self, dataval=None):\n",
    "      self.dataval = dataval\n",
    "      self.nextval = None"
   ]
  },
  {
   "cell_type": "code",
   "execution_count": null,
   "metadata": {
    "id": "cIB9GZo1Ox0S"
   },
   "outputs": [],
   "source": [
    "for i in range(len(l)):\n",
    "  if i==0:\n",
    "    e0 = Node(l[0])\n",
    "  else:\n",
    "    exec(f\"e{i}=Node(l[i])\")"
   ]
  },
  {
   "cell_type": "code",
   "execution_count": null,
   "metadata": {
    "id": "G-PGgXHKQEFZ"
   },
   "outputs": [],
   "source": [
    "for i in range(len(l)-1):\n",
    "  exec(f\"e{i}.nextval = e{i+1}\")"
   ]
  },
  {
   "cell_type": "code",
   "execution_count": null,
   "metadata": {
    "colab": {
     "base_uri": "https://localhost:8080/"
    },
    "id": "b89uaX3CRiif",
    "outputId": "fcea3963-52e4-4252-f132-549ac3ab424e"
   },
   "outputs": [],
   "source": [
    "for i in range(len(l)-1):\n",
    "  if i==0:\n",
    "    exec(f\"print(e{i}.dataval)\")\n",
    "    exec(f\"print(e{i}.nextval.dataval)\")\n",
    "  else:\n",
    "    exec(f\"print(e{i}.nextval.dataval)\")\n",
    "    "
   ]
  },
  {
   "cell_type": "code",
   "execution_count": null,
   "metadata": {
    "id": "IOXyZ9xZRvMv"
   },
   "outputs": [],
   "source": [
    "#Parse grammar\n",
    "\"\"\"\n",
    "0,S,NP,VP\n",
    "1,NP,ART,N\n",
    "2,ART,a,an,the\n",
    "3,N,cat,rat\n",
    "4,VP,V,NP1\n",
    "5,V,chases,ate\n",
    "6,NP1,ART1,N1\n",
    "7,ART1,a,an,the\n",
    "8,N1,cat,rat\n",
    "\"\"\""
   ]
  },
  {
   "cell_type": "code",
   "execution_count": null,
   "metadata": {
    "colab": {
     "base_uri": "https://localhost:8080/"
    },
    "id": "PkRLWrrKVVXH",
    "outputId": "b0c2da81-5d46-4b32-ecd2-d891b35ced8f"
   },
   "outputs": [],
   "source": [
    "file1 = open('GrammarFile.txt', 'r')\n",
    "Lines = file1.readlines()\n",
    "count = 0\n",
    "\n",
    "for line in Lines:\n",
    "    line = line.strip()\n",
    "    line = line.split(\",\")\n",
    "    print(line)\n",
    "    Lines[count] = line\n",
    "    count = count+1"
   ]
  },
  {
   "cell_type": "code",
   "execution_count": null,
   "metadata": {
    "id": "7AIllnzJaM6B"
   },
   "outputs": [],
   "source": [
    "flag = 1\n",
    "counter = 0\n",
    "if len(l)==1:\n",
    "  print(\"Sentence is trivially grammatically correct.\")\n",
    "else:\n",
    "  queue = []\n",
    "  queue.append(Lines[0][1])\n",
    "  expanded_nodes = []\n",
    "  current_expansion = queue[0]\n",
    "  last_expansion = queue[0]  \n",
    "  while queue and counter<len(l):  \n",
    "      if l[counter]==queue[0]:\n",
    "        while queue[0]!= last_expansion:\n",
    "          queue.pop(0)\n",
    "        queue.pop(0)\n",
    "        current_expansion = queue[0]\n",
    "        counter = counter+1\n",
    "      elif l[counter]!=queue[0] and counter==0:\n",
    "        if current_expansion in expanded_nodes:\n",
    "          while current_expansion in expanded_nodes:\n",
    "            queue.pop(0)\n",
    "            current_expansion = queue[0]\n",
    "            if not len(queue):\n",
    "              print(\"Sentence is gramatically correct.\")\n",
    "              break\n",
    "        else:  \n",
    "          for i in range(len(Lines)):\n",
    "            if Lines[i][1]==current_expansion:\n",
    "              flag= 0  \n",
    "              expanded_nodes.append(queue[0])\n",
    "              last_expansion = queue[0]\n",
    "              queue.reverse()\n",
    "              for j in range(len(Lines[i])-1,1,-1):\n",
    "                queue.append(Lines[i][j])\n",
    "              queue.reverse()\n",
    "              break\n",
    "          if flag:  \n",
    "            queue.pop(0)\n",
    "          flag=1\n",
    "          current_expansion =  queue[0]   \n",
    "      elif l[counter]!=queue[0] and counter!=0:\n",
    "        if current_expansion == last_expansion:\n",
    "            print(\"Sentence is gramatically incorrect due to the word: {}\".format(l[counter]))\n",
    "            break\n",
    "        if current_expansion in expanded_nodes:\n",
    "          while current_expansion in expanded_nodes:\n",
    "            queue.pop(0)\n",
    "            if len(queue):\n",
    "              current_expansion = queue[0]\n",
    "            if not len(queue) and counter<len(l):\n",
    "                print(\"Sentence is gramatically incorrect due to end of parse tree rules.\")\n",
    "                break\n",
    "        else:  \n",
    "          for i in range(len(Lines)):\n",
    "            if Lines[i][1]==current_expansion:\n",
    "              flag=0  \n",
    "              expanded_nodes.append(queue[0])\n",
    "              last_expansion = queue[0]\n",
    "              queue.reverse()\n",
    "              for j in range(len(Lines[i])-1,1,-1):\n",
    "                queue.append(Lines[i][j])\n",
    "              queue.reverse()\n",
    "              break\n",
    "          if flag:  \n",
    "            queue.pop(0)\n",
    "          flag=1\n",
    "          current_expansion =  queue[0]\n",
    "      else:\n",
    "        print(\"Something's wrong with the code!\")\n",
    "        exit()  \n",
    "if counter==len(l):\n",
    "  print(\"Sentence is grammatically correct.\") "
   ]
  }
 ],
 "metadata": {
  "colab": {
   "name": "Parser.ipynb",
   "provenance": []
  },
  "kernelspec": {
   "display_name": "Python 3",
   "language": "python",
   "name": "python3"
  },
  "language_info": {
   "codemirror_mode": {
    "name": "ipython",
    "version": 3
   },
   "file_extension": ".py",
   "mimetype": "text/x-python",
   "name": "python",
   "nbconvert_exporter": "python",
   "pygments_lexer": "ipython3",
   "version": "3.9.7"
  }
 },
 "nbformat": 4,
 "nbformat_minor": 1
}
